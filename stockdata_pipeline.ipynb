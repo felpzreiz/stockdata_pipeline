{
 "cells": [
  {
   "cell_type": "code",
   "execution_count": null,
   "metadata": {
    "colab": {
     "base_uri": "https://localhost:8080/"
    },
    "id": "poKYnZsZTijD",
    "outputId": "7f1a3f1a-17ec-4f7d-c5c1-6464a4557ff6"
   },
   "outputs": [],
   "source": [
    "pip install requests"
   ]
  },
  {
   "cell_type": "code",
   "execution_count": null,
   "metadata": {},
   "outputs": [],
   "source": [
    "pip install pandas"
   ]
  },
  {
   "cell_type": "code",
   "execution_count": 7,
   "metadata": {
    "id": "J5_wXhJObMWy"
   },
   "outputs": [],
   "source": [
    "import requests\n",
    "import pandas as pd\n",
    "import json"
   ]
  },
  {
   "cell_type": "code",
   "execution_count": null,
   "metadata": {
    "colab": {
     "base_uri": "https://localhost:8080/"
    },
    "id": "uX8Md3sWbbvX",
    "outputId": "f16fa76b-1879-4608-9868-4cd94eb37b1e"
   },
   "outputs": [],
   "source": [
    "API_KEY = \"19HYD6hzI86Hqfx8sTvN4fzh0wrBb4oyPlORREtn\"\n",
    "\n",
    "ENDPOINT = \"https://api.stockdata.org/v1/data/quote\"\n",
    "\n",
    "params = {\n",
    "    \"symbols\": \"GOOGL\",\n",
    "    \"interval\": \"1d\",\n",
    "    \"api_token\": API_KEY\n",
    "}\n",
    "\n",
    "response = requests.get(ENDPOINT, params=params)\n",
    "\n",
    "if response.status_code == 200:\n",
    "    \n",
    "    data = response.json()\n",
    "\n",
    "    caminho = \"bronze/stock_data_bronze.json\"\n",
    "\n",
    "    with open(caminho, \"w\", encoding=\"utf-8\") as arquivo:\n",
    "        json.dump(data, arquivo, indent=4) \n",
    "\n",
    "else:\n",
    "    print(f\"Erro: {response.status_code}, {response.text}\")"
   ]
  }
 ],
 "metadata": {
  "colab": {
   "provenance": []
  },
  "kernelspec": {
   "display_name": "Python 3",
   "name": "python3"
  },
  "language_info": {
   "codemirror_mode": {
    "name": "ipython",
    "version": 3
   },
   "file_extension": ".py",
   "mimetype": "text/x-python",
   "name": "python",
   "nbconvert_exporter": "python",
   "pygments_lexer": "ipython3",
   "version": "3.13.0"
  }
 },
 "nbformat": 4,
 "nbformat_minor": 0
}
